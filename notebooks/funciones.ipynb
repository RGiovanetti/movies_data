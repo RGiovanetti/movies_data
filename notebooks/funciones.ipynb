{
 "cells": [
  {
   "cell_type": "code",
   "execution_count": 22,
   "metadata": {},
   "outputs": [],
   "source": [
    "import pandas as pd\n",
    "df_movie =  pd.read_csv(r\"C:\\Users\\Giova\\OneDrive\\Escritorio\\HENRY\\Henry Practice\\1 proyecto Individual\\src\\df_movie.csv\")\n",
    "df_crew = pd.read_csv(r\"C:\\Users\\Giova\\OneDrive\\Escritorio\\HENRY\\Henry Practice\\1 proyecto Individual\\src\\df_crew.csv\")\n",
    "df_cast =pd.read_csv(r\"C:\\Users\\Giova\\OneDrive\\Escritorio\\HENRY\\Henry Practice\\1 proyecto Individual\\src\\df_cast.csv\")\n"
   ]
  },
  {
   "cell_type": "code",
   "execution_count": 24,
   "metadata": {},
   "outputs": [
    {
     "data": {
      "text/html": [
       "<div>\n",
       "<style scoped>\n",
       "    .dataframe tbody tr th:only-of-type {\n",
       "        vertical-align: middle;\n",
       "    }\n",
       "\n",
       "    .dataframe tbody tr th {\n",
       "        vertical-align: top;\n",
       "    }\n",
       "\n",
       "    .dataframe thead th {\n",
       "        text-align: right;\n",
       "    }\n",
       "</style>\n",
       "<table border=\"1\" class=\"dataframe\">\n",
       "  <thead>\n",
       "    <tr style=\"text-align: right;\">\n",
       "      <th></th>\n",
       "      <th>id</th>\n",
       "      <th>castname</th>\n",
       "    </tr>\n",
       "  </thead>\n",
       "  <tbody>\n",
       "    <tr>\n",
       "      <th>0</th>\n",
       "      <td>862</td>\n",
       "      <td>Tom Hanks</td>\n",
       "    </tr>\n",
       "    <tr>\n",
       "      <th>1</th>\n",
       "      <td>862</td>\n",
       "      <td>Tim Allen</td>\n",
       "    </tr>\n",
       "    <tr>\n",
       "      <th>2</th>\n",
       "      <td>862</td>\n",
       "      <td>Don Rickles</td>\n",
       "    </tr>\n",
       "    <tr>\n",
       "      <th>3</th>\n",
       "      <td>862</td>\n",
       "      <td>Jim Varney</td>\n",
       "    </tr>\n",
       "    <tr>\n",
       "      <th>4</th>\n",
       "      <td>862</td>\n",
       "      <td>Wallace Shawn</td>\n",
       "    </tr>\n",
       "    <tr>\n",
       "      <th>...</th>\n",
       "      <td>...</td>\n",
       "      <td>...</td>\n",
       "    </tr>\n",
       "    <tr>\n",
       "      <th>562039</th>\n",
       "      <td>227506</td>\n",
       "      <td>Iwan Mosschuchin</td>\n",
       "    </tr>\n",
       "    <tr>\n",
       "      <th>562040</th>\n",
       "      <td>227506</td>\n",
       "      <td>Nathalie Lissenko</td>\n",
       "    </tr>\n",
       "    <tr>\n",
       "      <th>562041</th>\n",
       "      <td>227506</td>\n",
       "      <td>Pavel Pavlov</td>\n",
       "    </tr>\n",
       "    <tr>\n",
       "      <th>562042</th>\n",
       "      <td>227506</td>\n",
       "      <td>Aleksandr Chabrov</td>\n",
       "    </tr>\n",
       "    <tr>\n",
       "      <th>562043</th>\n",
       "      <td>227506</td>\n",
       "      <td>Vera Orlova</td>\n",
       "    </tr>\n",
       "  </tbody>\n",
       "</table>\n",
       "<p>562044 rows × 2 columns</p>\n",
       "</div>"
      ],
      "text/plain": [
       "            id           castname\n",
       "0          862          Tom Hanks\n",
       "1          862          Tim Allen\n",
       "2          862        Don Rickles\n",
       "3          862         Jim Varney\n",
       "4          862      Wallace Shawn\n",
       "...        ...                ...\n",
       "562039  227506   Iwan Mosschuchin\n",
       "562040  227506  Nathalie Lissenko\n",
       "562041  227506       Pavel Pavlov\n",
       "562042  227506  Aleksandr Chabrov\n",
       "562043  227506        Vera Orlova\n",
       "\n",
       "[562044 rows x 2 columns]"
      ]
     },
     "execution_count": 24,
     "metadata": {},
     "output_type": "execute_result"
    }
   ],
   "source": [
    "df_cast"
   ]
  },
  {
   "cell_type": "code",
   "execution_count": 25,
   "metadata": {},
   "outputs": [],
   "source": [
    "df_combined = pd.merge(df_movie, df_cast, on='id', how='inner')"
   ]
  },
  {
   "cell_type": "code",
   "execution_count": 29,
   "metadata": {},
   "outputs": [
    {
     "data": {
      "text/plain": [
       "np.int64(1340)"
      ]
     },
     "execution_count": 29,
     "metadata": {},
     "output_type": "execute_result"
    }
   ],
   "source": [
    "df_combined\n"
   ]
  }
 ],
 "metadata": {
  "kernelspec": {
   "display_name": "p1env",
   "language": "python",
   "name": "python3"
  },
  "language_info": {
   "codemirror_mode": {
    "name": "ipython",
    "version": 3
   },
   "file_extension": ".py",
   "mimetype": "text/x-python",
   "name": "python",
   "nbconvert_exporter": "python",
   "pygments_lexer": "ipython3",
   "version": "3.12.4"
  }
 },
 "nbformat": 4,
 "nbformat_minor": 2
}
