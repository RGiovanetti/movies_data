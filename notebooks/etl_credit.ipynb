{
 "cells": [
  {
   "cell_type": "markdown",
   "metadata": {},
   "source": [
    "# ETL CREDIT\n"
   ]
  },
  {
   "cell_type": "code",
   "execution_count": 2,
   "metadata": {},
   "outputs": [],
   "source": [
    "import pandas as pd\n",
    "from pandas import json_normalize\n",
    "import ast"
   ]
  },
  {
   "cell_type": "markdown",
   "metadata": {},
   "source": [
    "### 1.0 Cargamos los datos"
   ]
  },
  {
   "cell_type": "code",
   "execution_count": 3,
   "metadata": {},
   "outputs": [
    {
     "data": {
      "text/html": [
       "<div>\n",
       "<style scoped>\n",
       "    .dataframe tbody tr th:only-of-type {\n",
       "        vertical-align: middle;\n",
       "    }\n",
       "\n",
       "    .dataframe tbody tr th {\n",
       "        vertical-align: top;\n",
       "    }\n",
       "\n",
       "    .dataframe thead th {\n",
       "        text-align: right;\n",
       "    }\n",
       "</style>\n",
       "<table border=\"1\" class=\"dataframe\">\n",
       "  <thead>\n",
       "    <tr style=\"text-align: right;\">\n",
       "      <th></th>\n",
       "      <th>cast</th>\n",
       "      <th>crew</th>\n",
       "      <th>id</th>\n",
       "    </tr>\n",
       "  </thead>\n",
       "  <tbody>\n",
       "    <tr>\n",
       "      <th>0</th>\n",
       "      <td>[{'cast_id': 14, 'character': 'Woody (voice)',...</td>\n",
       "      <td>[{'credit_id': '52fe4284c3a36847f8024f49', 'de...</td>\n",
       "      <td>862</td>\n",
       "    </tr>\n",
       "    <tr>\n",
       "      <th>1</th>\n",
       "      <td>[{'cast_id': 1, 'character': 'Alan Parrish', '...</td>\n",
       "      <td>[{'credit_id': '52fe44bfc3a36847f80a7cd1', 'de...</td>\n",
       "      <td>8844</td>\n",
       "    </tr>\n",
       "    <tr>\n",
       "      <th>2</th>\n",
       "      <td>[{'cast_id': 2, 'character': 'Max Goldman', 'c...</td>\n",
       "      <td>[{'credit_id': '52fe466a9251416c75077a89', 'de...</td>\n",
       "      <td>15602</td>\n",
       "    </tr>\n",
       "    <tr>\n",
       "      <th>3</th>\n",
       "      <td>[{'cast_id': 1, 'character': \"Savannah 'Vannah...</td>\n",
       "      <td>[{'credit_id': '52fe44779251416c91011acb', 'de...</td>\n",
       "      <td>31357</td>\n",
       "    </tr>\n",
       "    <tr>\n",
       "      <th>4</th>\n",
       "      <td>[{'cast_id': 1, 'character': 'George Banks', '...</td>\n",
       "      <td>[{'credit_id': '52fe44959251416c75039ed7', 'de...</td>\n",
       "      <td>11862</td>\n",
       "    </tr>\n",
       "    <tr>\n",
       "      <th>...</th>\n",
       "      <td>...</td>\n",
       "      <td>...</td>\n",
       "      <td>...</td>\n",
       "    </tr>\n",
       "    <tr>\n",
       "      <th>45471</th>\n",
       "      <td>[{'cast_id': 0, 'character': '', 'credit_id': ...</td>\n",
       "      <td>[{'credit_id': '5894a97d925141426c00818c', 'de...</td>\n",
       "      <td>439050</td>\n",
       "    </tr>\n",
       "    <tr>\n",
       "      <th>45472</th>\n",
       "      <td>[{'cast_id': 1002, 'character': 'Sister Angela...</td>\n",
       "      <td>[{'credit_id': '52fe4af1c3a36847f81e9b15', 'de...</td>\n",
       "      <td>111109</td>\n",
       "    </tr>\n",
       "    <tr>\n",
       "      <th>45473</th>\n",
       "      <td>[{'cast_id': 6, 'character': 'Emily Shaw', 'cr...</td>\n",
       "      <td>[{'credit_id': '52fe4776c3a368484e0c8387', 'de...</td>\n",
       "      <td>67758</td>\n",
       "    </tr>\n",
       "    <tr>\n",
       "      <th>45474</th>\n",
       "      <td>[{'cast_id': 2, 'character': '', 'credit_id': ...</td>\n",
       "      <td>[{'credit_id': '533bccebc3a36844cf0011a7', 'de...</td>\n",
       "      <td>227506</td>\n",
       "    </tr>\n",
       "    <tr>\n",
       "      <th>45475</th>\n",
       "      <td>[]</td>\n",
       "      <td>[{'credit_id': '593e676c92514105b702e68e', 'de...</td>\n",
       "      <td>461257</td>\n",
       "    </tr>\n",
       "  </tbody>\n",
       "</table>\n",
       "<p>45476 rows × 3 columns</p>\n",
       "</div>"
      ],
      "text/plain": [
       "                                                    cast  \\\n",
       "0      [{'cast_id': 14, 'character': 'Woody (voice)',...   \n",
       "1      [{'cast_id': 1, 'character': 'Alan Parrish', '...   \n",
       "2      [{'cast_id': 2, 'character': 'Max Goldman', 'c...   \n",
       "3      [{'cast_id': 1, 'character': \"Savannah 'Vannah...   \n",
       "4      [{'cast_id': 1, 'character': 'George Banks', '...   \n",
       "...                                                  ...   \n",
       "45471  [{'cast_id': 0, 'character': '', 'credit_id': ...   \n",
       "45472  [{'cast_id': 1002, 'character': 'Sister Angela...   \n",
       "45473  [{'cast_id': 6, 'character': 'Emily Shaw', 'cr...   \n",
       "45474  [{'cast_id': 2, 'character': '', 'credit_id': ...   \n",
       "45475                                                 []   \n",
       "\n",
       "                                                    crew      id  \n",
       "0      [{'credit_id': '52fe4284c3a36847f8024f49', 'de...     862  \n",
       "1      [{'credit_id': '52fe44bfc3a36847f80a7cd1', 'de...    8844  \n",
       "2      [{'credit_id': '52fe466a9251416c75077a89', 'de...   15602  \n",
       "3      [{'credit_id': '52fe44779251416c91011acb', 'de...   31357  \n",
       "4      [{'credit_id': '52fe44959251416c75039ed7', 'de...   11862  \n",
       "...                                                  ...     ...  \n",
       "45471  [{'credit_id': '5894a97d925141426c00818c', 'de...  439050  \n",
       "45472  [{'credit_id': '52fe4af1c3a36847f81e9b15', 'de...  111109  \n",
       "45473  [{'credit_id': '52fe4776c3a368484e0c8387', 'de...   67758  \n",
       "45474  [{'credit_id': '533bccebc3a36844cf0011a7', 'de...  227506  \n",
       "45475  [{'credit_id': '593e676c92514105b702e68e', 'de...  461257  \n",
       "\n",
       "[45476 rows x 3 columns]"
      ]
     },
     "execution_count": 3,
     "metadata": {},
     "output_type": "execute_result"
    }
   ],
   "source": [
    "\n",
    "df_credit= pd.read_csv(\"../dataset/credits.csv\")\n",
    "df_credit"
   ]
  },
  {
   "cell_type": "markdown",
   "metadata": {},
   "source": [
    "### 1.1 Creamos una función con el objetivo de expandir la lista de diccionarios que tenia el dataset credits, para eso usamos los Métodos clave\n",
    "\n",
    "- **`ast.literal_eval()`**: Utilizado para convertir de manera segura cadenas que representan estructuras de datos Python en objetos nativos \n",
    "  \n",
    "- **`explode()`**: Transforma listas en columnas en filas individuales, facilitando el análisis de datos que contienen listas de elementos relacionados.\n",
    "\n",
    "- **`json_normalize()`**: Aplana estructuras de datos JSON anidadas en un DataFrame tabular\n"
   ]
  },
  {
   "cell_type": "code",
   "execution_count": 4,
   "metadata": {},
   "outputs": [],
   "source": [
    "def expandcolumns(df, columns):\n",
    "    for column in columns:\n",
    "        #Convierte el contenido de cada celda en la columna column de df de una cadena de texto que representa una lista de diccionarios a una lista de diccionarios Python,\n",
    "        #  utilizando ast.literal_eval. Si el valor es nulo (pd.notnull(x)), se devuelve una lista vacía.\n",
    "        df[column] = df[column].apply(lambda x: ast.literal_eval(x) if pd.notnull(x) else []) \n",
    "        \n",
    "        # Expande la columna column en filas, de modo que cada elemento de la lista de diccionarios se convierte en una fila separada en df\n",
    "        df = df.explode(column)\n",
    "        # Normaliza la columna column después de expandirla, lo que significa que convierte cada diccionario dentro de la lista en una serie de columnas.\n",
    "        col_df = pd.json_normalize(df[column])\n",
    "        # Renombra las columnas normalizadas agregando el nombre original de la columna como prefijo, para evitar conflictos si hay nombres de columnas duplicados en diferentes listas de diccionarios.\n",
    "        col_df = col_df.add_prefix(f'{column}')\n",
    "        # Elimina la columna original column del DataFrame df y la reemplaza con las columnas normalizadas (col_df), asegurándose de que el índice del DataFrame se reinicie para evitar problemas con el índice de las filas.\n",
    "        df = df.drop(columns=[column]).reset_index(drop=True).join(col_df)\n",
    "    return df\n"
   ]
  },
  {
   "cell_type": "code",
   "execution_count": 5,
   "metadata": {},
   "outputs": [],
   "source": [
    "#declaramos las columnas que vamos a expandir sus datos\n",
    "columns_to_expand = ['cast']\n",
    "columns_to_expand2 =['crew']"
   ]
  },
  {
   "cell_type": "markdown",
   "metadata": {},
   "source": [
    "### se decidio crear dos datasets por separados llamados df_cast y df_crew con el objetivo de no tener un dataset demasiado extenso"
   ]
  },
  {
   "cell_type": "code",
   "execution_count": 6,
   "metadata": {},
   "outputs": [
    {
     "data": {
      "text/html": [
       "<div>\n",
       "<style scoped>\n",
       "    .dataframe tbody tr th:only-of-type {\n",
       "        vertical-align: middle;\n",
       "    }\n",
       "\n",
       "    .dataframe tbody tr th {\n",
       "        vertical-align: top;\n",
       "    }\n",
       "\n",
       "    .dataframe thead th {\n",
       "        text-align: right;\n",
       "    }\n",
       "</style>\n",
       "<table border=\"1\" class=\"dataframe\">\n",
       "  <thead>\n",
       "    <tr style=\"text-align: right;\">\n",
       "      <th></th>\n",
       "      <th>crew</th>\n",
       "      <th>id</th>\n",
       "      <th>castcast_id</th>\n",
       "      <th>castcharacter</th>\n",
       "      <th>castcredit_id</th>\n",
       "      <th>castgender</th>\n",
       "      <th>castid</th>\n",
       "      <th>castname</th>\n",
       "      <th>castorder</th>\n",
       "      <th>castprofile_path</th>\n",
       "    </tr>\n",
       "  </thead>\n",
       "  <tbody>\n",
       "    <tr>\n",
       "      <th>0</th>\n",
       "      <td>[{'credit_id': '52fe4284c3a36847f8024f49', 'de...</td>\n",
       "      <td>862</td>\n",
       "      <td>14.0</td>\n",
       "      <td>Woody (voice)</td>\n",
       "      <td>52fe4284c3a36847f8024f95</td>\n",
       "      <td>2.0</td>\n",
       "      <td>31.0</td>\n",
       "      <td>Tom Hanks</td>\n",
       "      <td>0.0</td>\n",
       "      <td>/pQFoyx7rp09CJTAb932F2g8Nlho.jpg</td>\n",
       "    </tr>\n",
       "    <tr>\n",
       "      <th>1</th>\n",
       "      <td>[{'credit_id': '52fe4284c3a36847f8024f49', 'de...</td>\n",
       "      <td>862</td>\n",
       "      <td>15.0</td>\n",
       "      <td>Buzz Lightyear (voice)</td>\n",
       "      <td>52fe4284c3a36847f8024f99</td>\n",
       "      <td>2.0</td>\n",
       "      <td>12898.0</td>\n",
       "      <td>Tim Allen</td>\n",
       "      <td>1.0</td>\n",
       "      <td>/uX2xVf6pMmPepxnvFWyBtjexzgY.jpg</td>\n",
       "    </tr>\n",
       "    <tr>\n",
       "      <th>2</th>\n",
       "      <td>[{'credit_id': '52fe4284c3a36847f8024f49', 'de...</td>\n",
       "      <td>862</td>\n",
       "      <td>16.0</td>\n",
       "      <td>Mr. Potato Head (voice)</td>\n",
       "      <td>52fe4284c3a36847f8024f9d</td>\n",
       "      <td>2.0</td>\n",
       "      <td>7167.0</td>\n",
       "      <td>Don Rickles</td>\n",
       "      <td>2.0</td>\n",
       "      <td>/h5BcaDMPRVLHLDzbQavec4xfSdt.jpg</td>\n",
       "    </tr>\n",
       "    <tr>\n",
       "      <th>3</th>\n",
       "      <td>[{'credit_id': '52fe4284c3a36847f8024f49', 'de...</td>\n",
       "      <td>862</td>\n",
       "      <td>17.0</td>\n",
       "      <td>Slinky Dog (voice)</td>\n",
       "      <td>52fe4284c3a36847f8024fa1</td>\n",
       "      <td>2.0</td>\n",
       "      <td>12899.0</td>\n",
       "      <td>Jim Varney</td>\n",
       "      <td>3.0</td>\n",
       "      <td>/eIo2jVVXYgjDtaHoF19Ll9vtW7h.jpg</td>\n",
       "    </tr>\n",
       "    <tr>\n",
       "      <th>4</th>\n",
       "      <td>[{'credit_id': '52fe4284c3a36847f8024f49', 'de...</td>\n",
       "      <td>862</td>\n",
       "      <td>18.0</td>\n",
       "      <td>Rex (voice)</td>\n",
       "      <td>52fe4284c3a36847f8024fa5</td>\n",
       "      <td>2.0</td>\n",
       "      <td>12900.0</td>\n",
       "      <td>Wallace Shawn</td>\n",
       "      <td>4.0</td>\n",
       "      <td>/oGE6JqPP2xH4tNORKNqxbNPYi7u.jpg</td>\n",
       "    </tr>\n",
       "    <tr>\n",
       "      <th>...</th>\n",
       "      <td>...</td>\n",
       "      <td>...</td>\n",
       "      <td>...</td>\n",
       "      <td>...</td>\n",
       "      <td>...</td>\n",
       "      <td>...</td>\n",
       "      <td>...</td>\n",
       "      <td>...</td>\n",
       "      <td>...</td>\n",
       "      <td>...</td>\n",
       "    </tr>\n",
       "    <tr>\n",
       "      <th>564887</th>\n",
       "      <td>[{'credit_id': '533bccebc3a36844cf0011a7', 'de...</td>\n",
       "      <td>227506</td>\n",
       "      <td>3.0</td>\n",
       "      <td></td>\n",
       "      <td>52fe4ea59251416c7515d7d9</td>\n",
       "      <td>1.0</td>\n",
       "      <td>1090923.0</td>\n",
       "      <td>Nathalie Lissenko</td>\n",
       "      <td>1.0</td>\n",
       "      <td>None</td>\n",
       "    </tr>\n",
       "    <tr>\n",
       "      <th>564888</th>\n",
       "      <td>[{'credit_id': '533bccebc3a36844cf0011a7', 'de...</td>\n",
       "      <td>227506</td>\n",
       "      <td>4.0</td>\n",
       "      <td></td>\n",
       "      <td>52fe4ea59251416c7515d7dd</td>\n",
       "      <td>2.0</td>\n",
       "      <td>1136422.0</td>\n",
       "      <td>Pavel Pavlov</td>\n",
       "      <td>2.0</td>\n",
       "      <td>None</td>\n",
       "    </tr>\n",
       "    <tr>\n",
       "      <th>564889</th>\n",
       "      <td>[{'credit_id': '533bccebc3a36844cf0011a7', 'de...</td>\n",
       "      <td>227506</td>\n",
       "      <td>5.0</td>\n",
       "      <td></td>\n",
       "      <td>52fe4ea59251416c7515d7e1</td>\n",
       "      <td>0.0</td>\n",
       "      <td>1261758.0</td>\n",
       "      <td>Aleksandr Chabrov</td>\n",
       "      <td>3.0</td>\n",
       "      <td>None</td>\n",
       "    </tr>\n",
       "    <tr>\n",
       "      <th>564890</th>\n",
       "      <td>[{'credit_id': '533bccebc3a36844cf0011a7', 'de...</td>\n",
       "      <td>227506</td>\n",
       "      <td>6.0</td>\n",
       "      <td></td>\n",
       "      <td>52fe4ea59251416c7515d7e5</td>\n",
       "      <td>1.0</td>\n",
       "      <td>29199.0</td>\n",
       "      <td>Vera Orlova</td>\n",
       "      <td>4.0</td>\n",
       "      <td>/n1NXVGNzNxtqsMWxLT1h8GO8Kpi.jpg</td>\n",
       "    </tr>\n",
       "    <tr>\n",
       "      <th>564891</th>\n",
       "      <td>[{'credit_id': '593e676c92514105b702e68e', 'de...</td>\n",
       "      <td>461257</td>\n",
       "      <td>NaN</td>\n",
       "      <td>NaN</td>\n",
       "      <td>NaN</td>\n",
       "      <td>NaN</td>\n",
       "      <td>NaN</td>\n",
       "      <td>NaN</td>\n",
       "      <td>NaN</td>\n",
       "      <td>NaN</td>\n",
       "    </tr>\n",
       "  </tbody>\n",
       "</table>\n",
       "<p>564892 rows × 10 columns</p>\n",
       "</div>"
      ],
      "text/plain": [
       "                                                     crew      id  \\\n",
       "0       [{'credit_id': '52fe4284c3a36847f8024f49', 'de...     862   \n",
       "1       [{'credit_id': '52fe4284c3a36847f8024f49', 'de...     862   \n",
       "2       [{'credit_id': '52fe4284c3a36847f8024f49', 'de...     862   \n",
       "3       [{'credit_id': '52fe4284c3a36847f8024f49', 'de...     862   \n",
       "4       [{'credit_id': '52fe4284c3a36847f8024f49', 'de...     862   \n",
       "...                                                   ...     ...   \n",
       "564887  [{'credit_id': '533bccebc3a36844cf0011a7', 'de...  227506   \n",
       "564888  [{'credit_id': '533bccebc3a36844cf0011a7', 'de...  227506   \n",
       "564889  [{'credit_id': '533bccebc3a36844cf0011a7', 'de...  227506   \n",
       "564890  [{'credit_id': '533bccebc3a36844cf0011a7', 'de...  227506   \n",
       "564891  [{'credit_id': '593e676c92514105b702e68e', 'de...  461257   \n",
       "\n",
       "        castcast_id            castcharacter             castcredit_id  \\\n",
       "0              14.0            Woody (voice)  52fe4284c3a36847f8024f95   \n",
       "1              15.0   Buzz Lightyear (voice)  52fe4284c3a36847f8024f99   \n",
       "2              16.0  Mr. Potato Head (voice)  52fe4284c3a36847f8024f9d   \n",
       "3              17.0       Slinky Dog (voice)  52fe4284c3a36847f8024fa1   \n",
       "4              18.0              Rex (voice)  52fe4284c3a36847f8024fa5   \n",
       "...             ...                      ...                       ...   \n",
       "564887          3.0                           52fe4ea59251416c7515d7d9   \n",
       "564888          4.0                           52fe4ea59251416c7515d7dd   \n",
       "564889          5.0                           52fe4ea59251416c7515d7e1   \n",
       "564890          6.0                           52fe4ea59251416c7515d7e5   \n",
       "564891          NaN                      NaN                       NaN   \n",
       "\n",
       "        castgender     castid           castname  castorder  \\\n",
       "0              2.0       31.0          Tom Hanks        0.0   \n",
       "1              2.0    12898.0          Tim Allen        1.0   \n",
       "2              2.0     7167.0        Don Rickles        2.0   \n",
       "3              2.0    12899.0         Jim Varney        3.0   \n",
       "4              2.0    12900.0      Wallace Shawn        4.0   \n",
       "...            ...        ...                ...        ...   \n",
       "564887         1.0  1090923.0  Nathalie Lissenko        1.0   \n",
       "564888         2.0  1136422.0       Pavel Pavlov        2.0   \n",
       "564889         0.0  1261758.0  Aleksandr Chabrov        3.0   \n",
       "564890         1.0    29199.0        Vera Orlova        4.0   \n",
       "564891         NaN        NaN                NaN        NaN   \n",
       "\n",
       "                        castprofile_path  \n",
       "0       /pQFoyx7rp09CJTAb932F2g8Nlho.jpg  \n",
       "1       /uX2xVf6pMmPepxnvFWyBtjexzgY.jpg  \n",
       "2       /h5BcaDMPRVLHLDzbQavec4xfSdt.jpg  \n",
       "3       /eIo2jVVXYgjDtaHoF19Ll9vtW7h.jpg  \n",
       "4       /oGE6JqPP2xH4tNORKNqxbNPYi7u.jpg  \n",
       "...                                  ...  \n",
       "564887                              None  \n",
       "564888                              None  \n",
       "564889                              None  \n",
       "564890  /n1NXVGNzNxtqsMWxLT1h8GO8Kpi.jpg  \n",
       "564891                               NaN  \n",
       "\n",
       "[564892 rows x 10 columns]"
      ]
     },
     "execution_count": 6,
     "metadata": {},
     "output_type": "execute_result"
    }
   ],
   "source": [
    "#se decidio crear dos datasets por separados u\n",
    "df_cast = expandcolumns(df_credit, columns_to_expand)\n",
    "df_cast\n"
   ]
  },
  {
   "cell_type": "code",
   "execution_count": 7,
   "metadata": {},
   "outputs": [
    {
     "data": {
      "text/html": [
       "<div>\n",
       "<style scoped>\n",
       "    .dataframe tbody tr th:only-of-type {\n",
       "        vertical-align: middle;\n",
       "    }\n",
       "\n",
       "    .dataframe tbody tr th {\n",
       "        vertical-align: top;\n",
       "    }\n",
       "\n",
       "    .dataframe thead th {\n",
       "        text-align: right;\n",
       "    }\n",
       "</style>\n",
       "<table border=\"1\" class=\"dataframe\">\n",
       "  <thead>\n",
       "    <tr style=\"text-align: right;\">\n",
       "      <th></th>\n",
       "      <th>cast</th>\n",
       "      <th>id</th>\n",
       "      <th>crewcredit_id</th>\n",
       "      <th>crewdepartment</th>\n",
       "      <th>crewgender</th>\n",
       "      <th>crewid</th>\n",
       "      <th>crewjob</th>\n",
       "      <th>crewname</th>\n",
       "      <th>crewprofile_path</th>\n",
       "    </tr>\n",
       "  </thead>\n",
       "  <tbody>\n",
       "    <tr>\n",
       "      <th>0</th>\n",
       "      <td>[{'cast_id': 14, 'character': 'Woody (voice)',...</td>\n",
       "      <td>862</td>\n",
       "      <td>52fe4284c3a36847f8024f49</td>\n",
       "      <td>Directing</td>\n",
       "      <td>2.0</td>\n",
       "      <td>7879.0</td>\n",
       "      <td>Director</td>\n",
       "      <td>John Lasseter</td>\n",
       "      <td>/7EdqiNbr4FRjIhKHyPPdFfEEEFG.jpg</td>\n",
       "    </tr>\n",
       "    <tr>\n",
       "      <th>1</th>\n",
       "      <td>[{'cast_id': 14, 'character': 'Woody (voice)',...</td>\n",
       "      <td>862</td>\n",
       "      <td>52fe4284c3a36847f8024f4f</td>\n",
       "      <td>Writing</td>\n",
       "      <td>2.0</td>\n",
       "      <td>12891.0</td>\n",
       "      <td>Screenplay</td>\n",
       "      <td>Joss Whedon</td>\n",
       "      <td>/dTiVsuaTVTeGmvkhcyJvKp2A5kr.jpg</td>\n",
       "    </tr>\n",
       "    <tr>\n",
       "      <th>2</th>\n",
       "      <td>[{'cast_id': 14, 'character': 'Woody (voice)',...</td>\n",
       "      <td>862</td>\n",
       "      <td>52fe4284c3a36847f8024f55</td>\n",
       "      <td>Writing</td>\n",
       "      <td>2.0</td>\n",
       "      <td>7.0</td>\n",
       "      <td>Screenplay</td>\n",
       "      <td>Andrew Stanton</td>\n",
       "      <td>/pvQWsu0qc8JFQhMVJkTHuexUAa1.jpg</td>\n",
       "    </tr>\n",
       "    <tr>\n",
       "      <th>3</th>\n",
       "      <td>[{'cast_id': 14, 'character': 'Woody (voice)',...</td>\n",
       "      <td>862</td>\n",
       "      <td>52fe4284c3a36847f8024f5b</td>\n",
       "      <td>Writing</td>\n",
       "      <td>2.0</td>\n",
       "      <td>12892.0</td>\n",
       "      <td>Screenplay</td>\n",
       "      <td>Joel Cohen</td>\n",
       "      <td>/dAubAiZcvKFbboWlj7oXOkZnTSu.jpg</td>\n",
       "    </tr>\n",
       "    <tr>\n",
       "      <th>4</th>\n",
       "      <td>[{'cast_id': 14, 'character': 'Woody (voice)',...</td>\n",
       "      <td>862</td>\n",
       "      <td>52fe4284c3a36847f8024f61</td>\n",
       "      <td>Writing</td>\n",
       "      <td>0.0</td>\n",
       "      <td>12893.0</td>\n",
       "      <td>Screenplay</td>\n",
       "      <td>Alec Sokolow</td>\n",
       "      <td>/v79vlRYi94BZUQnkkyznbGUZLjT.jpg</td>\n",
       "    </tr>\n",
       "    <tr>\n",
       "      <th>...</th>\n",
       "      <td>...</td>\n",
       "      <td>...</td>\n",
       "      <td>...</td>\n",
       "      <td>...</td>\n",
       "      <td>...</td>\n",
       "      <td>...</td>\n",
       "      <td>...</td>\n",
       "      <td>...</td>\n",
       "      <td>...</td>\n",
       "    </tr>\n",
       "    <tr>\n",
       "      <th>465080</th>\n",
       "      <td>[{'cast_id': 6, 'character': 'Emily Shaw', 'cr...</td>\n",
       "      <td>67758</td>\n",
       "      <td>52fe4776c3a368484e0c8399</td>\n",
       "      <td>Sound</td>\n",
       "      <td>0.0</td>\n",
       "      <td>549356.0</td>\n",
       "      <td>Original Music Composer</td>\n",
       "      <td>Richard McHugh</td>\n",
       "      <td>None</td>\n",
       "    </tr>\n",
       "    <tr>\n",
       "      <th>465081</th>\n",
       "      <td>[{'cast_id': 6, 'character': 'Emily Shaw', 'cr...</td>\n",
       "      <td>67758</td>\n",
       "      <td>52fe4776c3a368484e0c839f</td>\n",
       "      <td>Camera</td>\n",
       "      <td>2.0</td>\n",
       "      <td>58818.0</td>\n",
       "      <td>Director of Photography</td>\n",
       "      <td>João Fernandes</td>\n",
       "      <td>None</td>\n",
       "    </tr>\n",
       "    <tr>\n",
       "      <th>465082</th>\n",
       "      <td>[{'cast_id': 2, 'character': '', 'credit_id': ...</td>\n",
       "      <td>227506</td>\n",
       "      <td>533bccebc3a36844cf0011a7</td>\n",
       "      <td>Directing</td>\n",
       "      <td>0.0</td>\n",
       "      <td>1085341.0</td>\n",
       "      <td>Director</td>\n",
       "      <td>Yakov Protazanov</td>\n",
       "      <td>/yyjbGdCs2ZN6IlZNCfmBWyuRDlt.jpg</td>\n",
       "    </tr>\n",
       "    <tr>\n",
       "      <th>465083</th>\n",
       "      <td>[{'cast_id': 2, 'character': '', 'credit_id': ...</td>\n",
       "      <td>227506</td>\n",
       "      <td>58ebbc26925141281908aa0a</td>\n",
       "      <td>Production</td>\n",
       "      <td>2.0</td>\n",
       "      <td>1195656.0</td>\n",
       "      <td>Producer</td>\n",
       "      <td>Joseph N. Ermolieff</td>\n",
       "      <td>None</td>\n",
       "    </tr>\n",
       "    <tr>\n",
       "      <th>465084</th>\n",
       "      <td>[]</td>\n",
       "      <td>461257</td>\n",
       "      <td>593e676c92514105b702e68e</td>\n",
       "      <td>Directing</td>\n",
       "      <td>0.0</td>\n",
       "      <td>1344495.0</td>\n",
       "      <td>Director</td>\n",
       "      <td>Daisy Asquith</td>\n",
       "      <td>None</td>\n",
       "    </tr>\n",
       "  </tbody>\n",
       "</table>\n",
       "<p>465085 rows × 9 columns</p>\n",
       "</div>"
      ],
      "text/plain": [
       "                                                     cast      id  \\\n",
       "0       [{'cast_id': 14, 'character': 'Woody (voice)',...     862   \n",
       "1       [{'cast_id': 14, 'character': 'Woody (voice)',...     862   \n",
       "2       [{'cast_id': 14, 'character': 'Woody (voice)',...     862   \n",
       "3       [{'cast_id': 14, 'character': 'Woody (voice)',...     862   \n",
       "4       [{'cast_id': 14, 'character': 'Woody (voice)',...     862   \n",
       "...                                                   ...     ...   \n",
       "465080  [{'cast_id': 6, 'character': 'Emily Shaw', 'cr...   67758   \n",
       "465081  [{'cast_id': 6, 'character': 'Emily Shaw', 'cr...   67758   \n",
       "465082  [{'cast_id': 2, 'character': '', 'credit_id': ...  227506   \n",
       "465083  [{'cast_id': 2, 'character': '', 'credit_id': ...  227506   \n",
       "465084                                                 []  461257   \n",
       "\n",
       "                   crewcredit_id crewdepartment  crewgender     crewid  \\\n",
       "0       52fe4284c3a36847f8024f49      Directing         2.0     7879.0   \n",
       "1       52fe4284c3a36847f8024f4f        Writing         2.0    12891.0   \n",
       "2       52fe4284c3a36847f8024f55        Writing         2.0        7.0   \n",
       "3       52fe4284c3a36847f8024f5b        Writing         2.0    12892.0   \n",
       "4       52fe4284c3a36847f8024f61        Writing         0.0    12893.0   \n",
       "...                          ...            ...         ...        ...   \n",
       "465080  52fe4776c3a368484e0c8399          Sound         0.0   549356.0   \n",
       "465081  52fe4776c3a368484e0c839f         Camera         2.0    58818.0   \n",
       "465082  533bccebc3a36844cf0011a7      Directing         0.0  1085341.0   \n",
       "465083  58ebbc26925141281908aa0a     Production         2.0  1195656.0   \n",
       "465084  593e676c92514105b702e68e      Directing         0.0  1344495.0   \n",
       "\n",
       "                        crewjob             crewname  \\\n",
       "0                      Director        John Lasseter   \n",
       "1                    Screenplay          Joss Whedon   \n",
       "2                    Screenplay       Andrew Stanton   \n",
       "3                    Screenplay           Joel Cohen   \n",
       "4                    Screenplay         Alec Sokolow   \n",
       "...                         ...                  ...   \n",
       "465080  Original Music Composer       Richard McHugh   \n",
       "465081  Director of Photography       João Fernandes   \n",
       "465082                 Director     Yakov Protazanov   \n",
       "465083                 Producer  Joseph N. Ermolieff   \n",
       "465084                 Director        Daisy Asquith   \n",
       "\n",
       "                        crewprofile_path  \n",
       "0       /7EdqiNbr4FRjIhKHyPPdFfEEEFG.jpg  \n",
       "1       /dTiVsuaTVTeGmvkhcyJvKp2A5kr.jpg  \n",
       "2       /pvQWsu0qc8JFQhMVJkTHuexUAa1.jpg  \n",
       "3       /dAubAiZcvKFbboWlj7oXOkZnTSu.jpg  \n",
       "4       /v79vlRYi94BZUQnkkyznbGUZLjT.jpg  \n",
       "...                                  ...  \n",
       "465080                              None  \n",
       "465081                              None  \n",
       "465082  /yyjbGdCs2ZN6IlZNCfmBWyuRDlt.jpg  \n",
       "465083                              None  \n",
       "465084                              None  \n",
       "\n",
       "[465085 rows x 9 columns]"
      ]
     },
     "execution_count": 7,
     "metadata": {},
     "output_type": "execute_result"
    }
   ],
   "source": [
    "df_crew = expandcolumns(df_credit, columns_to_expand2)\n",
    "df_crew "
   ]
  },
  {
   "cell_type": "markdown",
   "metadata": {},
   "source": [
    "#### 1.2 Se elimina las columnas que tienen las listas anidadas. En df_cast se borra y crew y en df_crew cast"
   ]
  },
  {
   "cell_type": "code",
   "execution_count": 8,
   "metadata": {},
   "outputs": [],
   "source": [
    "\n",
    "df_cast = df_cast.drop(columns=['crew'])\n",
    "df_cast = df_cast.drop(columns=['castprofile_path'])\n"
   ]
  },
  {
   "cell_type": "code",
   "execution_count": 9,
   "metadata": {},
   "outputs": [],
   "source": [
    "df_crew = df_crew.drop(columns=['cast'])\n",
    "df_crew = df_crew.drop(columns=['crewprofile_path'])"
   ]
  },
  {
   "cell_type": "markdown",
   "metadata": {},
   "source": [
    "### 1.3 se revisa si tenemos duplicados y datos nulos\n"
   ]
  },
  {
   "cell_type": "markdown",
   "metadata": {},
   "source": [
    "##### Borrramos los duplicados de Cast"
   ]
  },
  {
   "cell_type": "code",
   "execution_count": 10,
   "metadata": {},
   "outputs": [
    {
     "name": "stdout",
     "output_type": "stream",
     "text": [
      "df_cast tiene 434 duplicados\n"
     ]
    }
   ],
   "source": [
    "duplicados_cast = df_cast.duplicated().sum()\n",
    "print(f\"df_cast tiene {duplicados_cast} duplicados\")\n"
   ]
  },
  {
   "cell_type": "code",
   "execution_count": 11,
   "metadata": {},
   "outputs": [
    {
     "name": "stdout",
     "output_type": "stream",
     "text": [
      "df_cast tiene 0 duplicados\n"
     ]
    }
   ],
   "source": [
    "df_cast = df_cast.drop_duplicates()\n",
    "duplicados_cast = df_cast.duplicated().sum()\n",
    "print(f\"df_cast tiene {duplicados_cast} duplicados\")"
   ]
  },
  {
   "cell_type": "markdown",
   "metadata": {},
   "source": [
    "##### Borrramos los valores nulos de Cast"
   ]
  },
  {
   "cell_type": "code",
   "execution_count": 12,
   "metadata": {},
   "outputs": [
    {
     "name": "stdout",
     "output_type": "stream",
     "text": [
      "id                  0\n",
      "castcast_id      2414\n",
      "castcharacter    2414\n",
      "castcredit_id    2414\n",
      "castgender       2414\n",
      "castid           2414\n",
      "castname         2414\n",
      "castorder        2414\n",
      "dtype: int64\n"
     ]
    }
   ],
   "source": [
    "nulos_cast = df_cast.isna().sum()\n",
    "print(nulos_cast)\n",
    "\n"
   ]
  },
  {
   "cell_type": "code",
   "execution_count": 13,
   "metadata": {},
   "outputs": [
    {
     "name": "stdout",
     "output_type": "stream",
     "text": [
      "id               0\n",
      "castcast_id      0\n",
      "castcharacter    0\n",
      "castcredit_id    0\n",
      "castgender       0\n",
      "castid           0\n",
      "castname         0\n",
      "castorder        0\n",
      "dtype: int64\n"
     ]
    }
   ],
   "source": [
    "df_cast = df_cast.dropna()\n",
    "nulos_cast = df_cast.isna().sum()\n",
    "print(nulos_cast)\n"
   ]
  },
  {
   "cell_type": "markdown",
   "metadata": {},
   "source": [
    "##### Borrramos los valores duplicados de crew"
   ]
  },
  {
   "cell_type": "code",
   "execution_count": 14,
   "metadata": {},
   "outputs": [
    {
     "name": "stdout",
     "output_type": "stream",
     "text": [
      "df_crew tiene 478 duplicados\n"
     ]
    }
   ],
   "source": [
    "duplicados_crew = df_crew.duplicated().sum()\n",
    "print(f\"df_crew tiene {duplicados_crew} duplicados\")"
   ]
  },
  {
   "cell_type": "code",
   "execution_count": 15,
   "metadata": {},
   "outputs": [
    {
     "name": "stdout",
     "output_type": "stream",
     "text": [
      "df_crew tiene 0 duplicados\n"
     ]
    }
   ],
   "source": [
    "df_crew = df_crew.drop_duplicates()\n",
    "duplicados_crew = df_crew.duplicated().sum()\n",
    "print(f\"df_crew tiene {duplicados_crew} duplicados\")"
   ]
  },
  {
   "cell_type": "markdown",
   "metadata": {},
   "source": [
    "##### Borrramos los valores nulos de crew"
   ]
  },
  {
   "cell_type": "code",
   "execution_count": 16,
   "metadata": {},
   "outputs": [
    {
     "name": "stdout",
     "output_type": "stream",
     "text": [
      "id                  0\n",
      "crewcredit_id     771\n",
      "crewdepartment    771\n",
      "crewgender        771\n",
      "crewid            771\n",
      "crewjob           771\n",
      "crewname          771\n",
      "dtype: int64\n"
     ]
    }
   ],
   "source": [
    "nulos_crew = df_crew.isna().sum()\n",
    "print(nulos_crew)"
   ]
  },
  {
   "cell_type": "code",
   "execution_count": 17,
   "metadata": {},
   "outputs": [
    {
     "name": "stdout",
     "output_type": "stream",
     "text": [
      "id                0\n",
      "crewcredit_id     0\n",
      "crewdepartment    0\n",
      "crewgender        0\n",
      "crewid            0\n",
      "crewjob           0\n",
      "crewname          0\n",
      "dtype: int64\n"
     ]
    }
   ],
   "source": [
    "df_crew = df_crew.dropna()\n",
    "nulos_crew = df_crew.isna().sum()\n",
    "print(nulos_crew)"
   ]
  },
  {
   "cell_type": "code",
   "execution_count": 45,
   "metadata": {},
   "outputs": [
    {
     "name": "stdout",
     "output_type": "stream",
     "text": [
      "<class 'pandas.core.frame.DataFrame'>\n",
      "Index: 562044 entries, 0 to 564890\n",
      "Data columns (total 2 columns):\n",
      " #   Column    Non-Null Count   Dtype \n",
      "---  ------    --------------   ----- \n",
      " 0   id        562044 non-null  int64 \n",
      " 1   castname  562044 non-null  object\n",
      "dtypes: int64(1), object(1)\n",
      "memory usage: 12.9+ MB\n"
     ]
    }
   ],
   "source": [
    "df_cast.info()"
   ]
  },
  {
   "cell_type": "code",
   "execution_count": 42,
   "metadata": {},
   "outputs": [],
   "source": [
    "df_cast = df_cast[['id','castname']]"
   ]
  },
  {
   "cell_type": "code",
   "execution_count": 44,
   "metadata": {},
   "outputs": [
    {
     "name": "stdout",
     "output_type": "stream",
     "text": [
      "     id           castname\n",
      "0   862          Tom Hanks\n",
      "1   862          Tim Allen\n",
      "2   862        Don Rickles\n",
      "3   862         Jim Varney\n",
      "4   862      Wallace Shawn\n",
      "5   862  John Ratzenberger\n",
      "6   862        Annie Potts\n",
      "7   862        John Morris\n",
      "8   862    Erik von Detten\n",
      "9   862     Laurie Metcalf\n",
      "10  862       R. Lee Ermey\n",
      "11  862      Sarah Freeman\n",
      "12  862      Penn Jillette\n"
     ]
    }
   ],
   "source": [
    "df_filtro = df_cast[df_cast['id'] == 862]\n",
    "print(df_filtro)\n"
   ]
  },
  {
   "cell_type": "code",
   "execution_count": 46,
   "metadata": {},
   "outputs": [
    {
     "name": "stdout",
     "output_type": "stream",
     "text": [
      "<class 'pandas.core.frame.DataFrame'>\n",
      "Index: 463836 entries, 0 to 465084\n",
      "Data columns (total 7 columns):\n",
      " #   Column          Non-Null Count   Dtype  \n",
      "---  ------          --------------   -----  \n",
      " 0   id              463836 non-null  int64  \n",
      " 1   crewcredit_id   463836 non-null  object \n",
      " 2   crewdepartment  463836 non-null  object \n",
      " 3   crewgender      463836 non-null  float64\n",
      " 4   crewid          463836 non-null  float64\n",
      " 5   crewjob         463836 non-null  object \n",
      " 6   crewname        463836 non-null  object \n",
      "dtypes: float64(2), int64(1), object(4)\n",
      "memory usage: 28.3+ MB\n"
     ]
    }
   ],
   "source": [
    "df_crew.info()"
   ]
  },
  {
   "cell_type": "code",
   "execution_count": 49,
   "metadata": {},
   "outputs": [],
   "source": [
    "df_crew = df_crew[['id','crewjob', 'crewname'] ]"
   ]
  },
  {
   "cell_type": "code",
   "execution_count": 51,
   "metadata": {},
   "outputs": [
    {
     "name": "stdout",
     "output_type": "stream",
     "text": [
      "<class 'pandas.core.frame.DataFrame'>\n",
      "Index: 463836 entries, 0 to 465084\n",
      "Data columns (total 3 columns):\n",
      " #   Column    Non-Null Count   Dtype \n",
      "---  ------    --------------   ----- \n",
      " 0   id        463836 non-null  int64 \n",
      " 1   crewjob   463836 non-null  object\n",
      " 2   crewname  463836 non-null  object\n",
      "dtypes: int64(1), object(2)\n",
      "memory usage: 14.2+ MB\n"
     ]
    }
   ],
   "source": [
    "df_crew.info()\n"
   ]
  },
  {
   "cell_type": "code",
   "execution_count": 52,
   "metadata": {},
   "outputs": [],
   "source": [
    "df_cast.to_csv('df_cast.csv', index=False)\n",
    "df_crew.to_csv('df_crew.csv', index=False)"
   ]
  }
 ],
 "metadata": {
  "kernelspec": {
   "display_name": "Python 3",
   "language": "python",
   "name": "python3"
  },
  "language_info": {
   "codemirror_mode": {
    "name": "ipython",
    "version": 3
   },
   "file_extension": ".py",
   "mimetype": "text/x-python",
   "name": "python",
   "nbconvert_exporter": "python",
   "pygments_lexer": "ipython3",
   "version": "3.12.4"
  }
 },
 "nbformat": 4,
 "nbformat_minor": 2
}
